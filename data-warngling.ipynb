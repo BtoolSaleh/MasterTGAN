{
 "cells": [
  {
   "cell_type": "code",
   "execution_count": 1,
   "metadata": {},
   "outputs": [],
   "source": [
    "import pandas as pd\n",
    "import numpy as np \n",
    "from sklearn.preprocessing import LabelEncoder\n"
   ]
  },
  {
   "cell_type": "code",
   "execution_count": 2,
   "metadata": {},
   "outputs": [
    {
     "name": "stdout",
     "output_type": "stream",
     "text": [
      "(111, 10)\n"
     ]
    },
    {
     "data": {
      "text/html": [
       "<div>\n",
       "<style scoped>\n",
       "    .dataframe tbody tr th:only-of-type {\n",
       "        vertical-align: middle;\n",
       "    }\n",
       "\n",
       "    .dataframe tbody tr th {\n",
       "        vertical-align: top;\n",
       "    }\n",
       "\n",
       "    .dataframe thead th {\n",
       "        text-align: right;\n",
       "    }\n",
       "</style>\n",
       "<table border=\"1\" class=\"dataframe\">\n",
       "  <thead>\n",
       "    <tr style=\"text-align: right;\">\n",
       "      <th></th>\n",
       "      <th>d_p</th>\n",
       "      <th>d_hole</th>\n",
       "      <th>l_e</th>\n",
       "      <th>f_cg</th>\n",
       "      <th>f_cm</th>\n",
       "      <th>anchore_type</th>\n",
       "      <th>masonry_type</th>\n",
       "      <th>sigma_c</th>\n",
       "      <th>f_max_exp</th>\n",
       "      <th>failure_mode</th>\n",
       "    </tr>\n",
       "  </thead>\n",
       "  <tbody>\n",
       "    <tr>\n",
       "      <th>0</th>\n",
       "      <td>16</td>\n",
       "      <td>80</td>\n",
       "      <td>350</td>\n",
       "      <td>27.3</td>\n",
       "      <td>50.0</td>\n",
       "      <td>steal bar</td>\n",
       "      <td>clay bricks</td>\n",
       "      <td>0.08</td>\n",
       "      <td>58.0</td>\n",
       "      <td>MIX</td>\n",
       "    </tr>\n",
       "    <tr>\n",
       "      <th>1</th>\n",
       "      <td>16</td>\n",
       "      <td>80</td>\n",
       "      <td>350</td>\n",
       "      <td>27.3</td>\n",
       "      <td>50.0</td>\n",
       "      <td>steal bar</td>\n",
       "      <td>clay bricks</td>\n",
       "      <td>0.09</td>\n",
       "      <td>40.0</td>\n",
       "      <td>MIX</td>\n",
       "    </tr>\n",
       "    <tr>\n",
       "      <th>2</th>\n",
       "      <td>16</td>\n",
       "      <td>80</td>\n",
       "      <td>350</td>\n",
       "      <td>27.3</td>\n",
       "      <td>50.0</td>\n",
       "      <td>steal bar</td>\n",
       "      <td>clay bricks</td>\n",
       "      <td>0.07</td>\n",
       "      <td>52.0</td>\n",
       "      <td>MIX</td>\n",
       "    </tr>\n",
       "    <tr>\n",
       "      <th>3</th>\n",
       "      <td>16</td>\n",
       "      <td>80</td>\n",
       "      <td>350</td>\n",
       "      <td>27.3</td>\n",
       "      <td>50.0</td>\n",
       "      <td>steal bar</td>\n",
       "      <td>clay bricks</td>\n",
       "      <td>0.7</td>\n",
       "      <td>60.0</td>\n",
       "      <td>SBG</td>\n",
       "    </tr>\n",
       "    <tr>\n",
       "      <th>4</th>\n",
       "      <td>16</td>\n",
       "      <td>80</td>\n",
       "      <td>350</td>\n",
       "      <td>27.3</td>\n",
       "      <td>50.0</td>\n",
       "      <td>steal bar</td>\n",
       "      <td>clay bricks</td>\n",
       "      <td>0.7</td>\n",
       "      <td>64.0</td>\n",
       "      <td>SBG</td>\n",
       "    </tr>\n",
       "  </tbody>\n",
       "</table>\n",
       "</div>"
      ],
      "text/plain": [
       "   d_p  d_hole  l_e  f_cg  f_cm anchore_type masonry_type sigma_c  f_max_exp  \\\n",
       "0   16      80  350  27.3  50.0    steal bar  clay bricks    0.08       58.0   \n",
       "1   16      80  350  27.3  50.0    steal bar  clay bricks    0.09       40.0   \n",
       "2   16      80  350  27.3  50.0    steal bar  clay bricks    0.07       52.0   \n",
       "3   16      80  350  27.3  50.0    steal bar  clay bricks     0.7       60.0   \n",
       "4   16      80  350  27.3  50.0    steal bar  clay bricks     0.7       64.0   \n",
       "\n",
       "  failure_mode  \n",
       "0          MIX  \n",
       "1          MIX  \n",
       "2          MIX  \n",
       "3          SBG  \n",
       "4          SBG  "
      ]
     },
     "execution_count": 2,
     "metadata": {},
     "output_type": "execute_result"
    }
   ],
   "source": [
    "data = pd.read_excel(\"data\\data.xlsx\")\n",
    "print(data.shape)\n",
    "data.head()"
   ]
  },
  {
   "cell_type": "code",
   "execution_count": 3,
   "metadata": {},
   "outputs": [
    {
     "data": {
      "text/plain": [
       "d_p             0\n",
       "d_hole          0\n",
       "l_e             0\n",
       "f_cg            0\n",
       "f_cm            0\n",
       "anchore_type    0\n",
       "masonry_type    0\n",
       "sigma_c         0\n",
       "f_max_exp       0\n",
       "failure_mode    0\n",
       "dtype: int64"
      ]
     },
     "execution_count": 3,
     "metadata": {},
     "output_type": "execute_result"
    }
   ],
   "source": [
    "data.isnull().sum()"
   ]
  },
  {
   "cell_type": "code",
   "execution_count": 4,
   "metadata": {},
   "outputs": [
    {
     "data": {
      "text/plain": [
       "d_p               int64\n",
       "d_hole            int64\n",
       "l_e               int64\n",
       "f_cg            float64\n",
       "f_cm            float64\n",
       "anchore_type     object\n",
       "masonry_type     object\n",
       "sigma_c          object\n",
       "f_max_exp       float64\n",
       "failure_mode     object\n",
       "dtype: object"
      ]
     },
     "execution_count": 4,
     "metadata": {},
     "output_type": "execute_result"
    }
   ],
   "source": [
    "data.dtypes"
   ]
  },
  {
   "cell_type": "code",
   "execution_count": 5,
   "metadata": {},
   "outputs": [
    {
     "data": {
      "text/plain": [
       "array(['steal bar', 'stainless steel bar', 'steel spike', 'steel bar',\n",
       "       'GFRP bar', 'GFRP bar with SRP wrap', 'carbotube'], dtype=object)"
      ]
     },
     "execution_count": 5,
     "metadata": {},
     "output_type": "execute_result"
    }
   ],
   "source": [
    "data[\"anchore_type\"].unique()"
   ]
  },
  {
   "cell_type": "code",
   "execution_count": 6,
   "metadata": {},
   "outputs": [
    {
     "data": {
      "text/plain": [
       "array(['clay bricks', 'limestone', 'tuff stone'], dtype=object)"
      ]
     },
     "execution_count": 6,
     "metadata": {},
     "output_type": "execute_result"
    }
   ],
   "source": [
    "data[\"masonry_type\"].unique()"
   ]
  },
  {
   "cell_type": "code",
   "execution_count": 7,
   "metadata": {},
   "outputs": [
    {
     "data": {
      "text/plain": [
       "array(['MIX', 'SBG', 'SGM', 'CMD'], dtype=object)"
      ]
     },
     "execution_count": 7,
     "metadata": {},
     "output_type": "execute_result"
    }
   ],
   "source": [
    "data[\"failure_mode\"].unique()"
   ]
  },
  {
   "cell_type": "code",
   "execution_count": 8,
   "metadata": {},
   "outputs": [],
   "source": [
    "encoder = LabelEncoder()\n",
    "data[\"anchore_type\"] =encoder.fit_transform(data[\"anchore_type\"])\n",
    "data[\"masonry_type\"] = encoder.fit_transform(data[\"masonry_type\"])\n",
    "data[\"failure_mode\"] = encoder.fit_transform(data[\"failure_mode\"])"
   ]
  },
  {
   "cell_type": "code",
   "execution_count": 9,
   "metadata": {},
   "outputs": [
    {
     "data": {
      "text/html": [
       "<div>\n",
       "<style scoped>\n",
       "    .dataframe tbody tr th:only-of-type {\n",
       "        vertical-align: middle;\n",
       "    }\n",
       "\n",
       "    .dataframe tbody tr th {\n",
       "        vertical-align: top;\n",
       "    }\n",
       "\n",
       "    .dataframe thead th {\n",
       "        text-align: right;\n",
       "    }\n",
       "</style>\n",
       "<table border=\"1\" class=\"dataframe\">\n",
       "  <thead>\n",
       "    <tr style=\"text-align: right;\">\n",
       "      <th></th>\n",
       "      <th>d_p</th>\n",
       "      <th>d_hole</th>\n",
       "      <th>l_e</th>\n",
       "      <th>f_cg</th>\n",
       "      <th>f_cm</th>\n",
       "      <th>anchore_type</th>\n",
       "      <th>masonry_type</th>\n",
       "      <th>sigma_c</th>\n",
       "      <th>f_max_exp</th>\n",
       "      <th>failure_mode</th>\n",
       "    </tr>\n",
       "  </thead>\n",
       "  <tbody>\n",
       "    <tr>\n",
       "      <th>0</th>\n",
       "      <td>16</td>\n",
       "      <td>80</td>\n",
       "      <td>350</td>\n",
       "      <td>27.3</td>\n",
       "      <td>50.0</td>\n",
       "      <td>4</td>\n",
       "      <td>0</td>\n",
       "      <td>0.08</td>\n",
       "      <td>58.0</td>\n",
       "      <td>1</td>\n",
       "    </tr>\n",
       "    <tr>\n",
       "      <th>1</th>\n",
       "      <td>16</td>\n",
       "      <td>80</td>\n",
       "      <td>350</td>\n",
       "      <td>27.3</td>\n",
       "      <td>50.0</td>\n",
       "      <td>4</td>\n",
       "      <td>0</td>\n",
       "      <td>0.09</td>\n",
       "      <td>40.0</td>\n",
       "      <td>1</td>\n",
       "    </tr>\n",
       "    <tr>\n",
       "      <th>2</th>\n",
       "      <td>16</td>\n",
       "      <td>80</td>\n",
       "      <td>350</td>\n",
       "      <td>27.3</td>\n",
       "      <td>50.0</td>\n",
       "      <td>4</td>\n",
       "      <td>0</td>\n",
       "      <td>0.07</td>\n",
       "      <td>52.0</td>\n",
       "      <td>1</td>\n",
       "    </tr>\n",
       "    <tr>\n",
       "      <th>3</th>\n",
       "      <td>16</td>\n",
       "      <td>80</td>\n",
       "      <td>350</td>\n",
       "      <td>27.3</td>\n",
       "      <td>50.0</td>\n",
       "      <td>4</td>\n",
       "      <td>0</td>\n",
       "      <td>0.7</td>\n",
       "      <td>60.0</td>\n",
       "      <td>2</td>\n",
       "    </tr>\n",
       "    <tr>\n",
       "      <th>4</th>\n",
       "      <td>16</td>\n",
       "      <td>80</td>\n",
       "      <td>350</td>\n",
       "      <td>27.3</td>\n",
       "      <td>50.0</td>\n",
       "      <td>4</td>\n",
       "      <td>0</td>\n",
       "      <td>0.7</td>\n",
       "      <td>64.0</td>\n",
       "      <td>2</td>\n",
       "    </tr>\n",
       "  </tbody>\n",
       "</table>\n",
       "</div>"
      ],
      "text/plain": [
       "   d_p  d_hole  l_e  f_cg  f_cm  anchore_type  masonry_type sigma_c  \\\n",
       "0   16      80  350  27.3  50.0             4             0    0.08   \n",
       "1   16      80  350  27.3  50.0             4             0    0.09   \n",
       "2   16      80  350  27.3  50.0             4             0    0.07   \n",
       "3   16      80  350  27.3  50.0             4             0     0.7   \n",
       "4   16      80  350  27.3  50.0             4             0     0.7   \n",
       "\n",
       "   f_max_exp  failure_mode  \n",
       "0       58.0             1  \n",
       "1       40.0             1  \n",
       "2       52.0             1  \n",
       "3       60.0             2  \n",
       "4       64.0             2  "
      ]
     },
     "execution_count": 9,
     "metadata": {},
     "output_type": "execute_result"
    }
   ],
   "source": [
    "data.head()"
   ]
  },
  {
   "cell_type": "code",
   "execution_count": 11,
   "metadata": {},
   "outputs": [],
   "source": [
    "new_df = data.drop('sigma_c', axis=1)"
   ]
  },
  {
   "cell_type": "code",
   "execution_count": 12,
   "metadata": {},
   "outputs": [
    {
     "data": {
      "text/html": [
       "<div>\n",
       "<style scoped>\n",
       "    .dataframe tbody tr th:only-of-type {\n",
       "        vertical-align: middle;\n",
       "    }\n",
       "\n",
       "    .dataframe tbody tr th {\n",
       "        vertical-align: top;\n",
       "    }\n",
       "\n",
       "    .dataframe thead th {\n",
       "        text-align: right;\n",
       "    }\n",
       "</style>\n",
       "<table border=\"1\" class=\"dataframe\">\n",
       "  <thead>\n",
       "    <tr style=\"text-align: right;\">\n",
       "      <th></th>\n",
       "      <th>d_p</th>\n",
       "      <th>d_hole</th>\n",
       "      <th>l_e</th>\n",
       "      <th>f_cg</th>\n",
       "      <th>f_cm</th>\n",
       "      <th>anchore_type</th>\n",
       "      <th>masonry_type</th>\n",
       "      <th>f_max_exp</th>\n",
       "      <th>failure_mode</th>\n",
       "    </tr>\n",
       "  </thead>\n",
       "  <tbody>\n",
       "    <tr>\n",
       "      <th>0</th>\n",
       "      <td>16</td>\n",
       "      <td>80</td>\n",
       "      <td>350</td>\n",
       "      <td>27.3</td>\n",
       "      <td>50.0</td>\n",
       "      <td>4</td>\n",
       "      <td>0</td>\n",
       "      <td>58.0</td>\n",
       "      <td>1</td>\n",
       "    </tr>\n",
       "    <tr>\n",
       "      <th>1</th>\n",
       "      <td>16</td>\n",
       "      <td>80</td>\n",
       "      <td>350</td>\n",
       "      <td>27.3</td>\n",
       "      <td>50.0</td>\n",
       "      <td>4</td>\n",
       "      <td>0</td>\n",
       "      <td>40.0</td>\n",
       "      <td>1</td>\n",
       "    </tr>\n",
       "    <tr>\n",
       "      <th>2</th>\n",
       "      <td>16</td>\n",
       "      <td>80</td>\n",
       "      <td>350</td>\n",
       "      <td>27.3</td>\n",
       "      <td>50.0</td>\n",
       "      <td>4</td>\n",
       "      <td>0</td>\n",
       "      <td>52.0</td>\n",
       "      <td>1</td>\n",
       "    </tr>\n",
       "    <tr>\n",
       "      <th>3</th>\n",
       "      <td>16</td>\n",
       "      <td>80</td>\n",
       "      <td>350</td>\n",
       "      <td>27.3</td>\n",
       "      <td>50.0</td>\n",
       "      <td>4</td>\n",
       "      <td>0</td>\n",
       "      <td>60.0</td>\n",
       "      <td>2</td>\n",
       "    </tr>\n",
       "    <tr>\n",
       "      <th>4</th>\n",
       "      <td>16</td>\n",
       "      <td>80</td>\n",
       "      <td>350</td>\n",
       "      <td>27.3</td>\n",
       "      <td>50.0</td>\n",
       "      <td>4</td>\n",
       "      <td>0</td>\n",
       "      <td>64.0</td>\n",
       "      <td>2</td>\n",
       "    </tr>\n",
       "  </tbody>\n",
       "</table>\n",
       "</div>"
      ],
      "text/plain": [
       "   d_p  d_hole  l_e  f_cg  f_cm  anchore_type  masonry_type  f_max_exp  \\\n",
       "0   16      80  350  27.3  50.0             4             0       58.0   \n",
       "1   16      80  350  27.3  50.0             4             0       40.0   \n",
       "2   16      80  350  27.3  50.0             4             0       52.0   \n",
       "3   16      80  350  27.3  50.0             4             0       60.0   \n",
       "4   16      80  350  27.3  50.0             4             0       64.0   \n",
       "\n",
       "   failure_mode  \n",
       "0             1  \n",
       "1             1  \n",
       "2             1  \n",
       "3             2  \n",
       "4             2  "
      ]
     },
     "execution_count": 12,
     "metadata": {},
     "output_type": "execute_result"
    }
   ],
   "source": [
    "new_df.head()"
   ]
  },
  {
   "cell_type": "code",
   "execution_count": 14,
   "metadata": {},
   "outputs": [],
   "source": [
    "new_df.to_excel(\"data/new_data.xlsx\")"
   ]
  }
 ],
 "metadata": {
  "kernelspec": {
   "display_name": "Python 3",
   "language": "python",
   "name": "python3"
  },
  "language_info": {
   "codemirror_mode": {
    "name": "ipython",
    "version": 3
   },
   "file_extension": ".py",
   "mimetype": "text/x-python",
   "name": "python",
   "nbconvert_exporter": "python",
   "pygments_lexer": "ipython3",
   "version": "3.11.2"
  }
 },
 "nbformat": 4,
 "nbformat_minor": 2
}
