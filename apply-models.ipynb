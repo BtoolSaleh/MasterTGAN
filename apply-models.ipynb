{
 "cells": [
  {
   "cell_type": "code",
   "execution_count": 1,
   "metadata": {},
   "outputs": [],
   "source": [
    "import pandas as pd \n",
    "import numpy as np\n",
    "from sklearn.model_selection import train_test_split\n",
    "from sklearn.preprocessing import StandardScaler\n",
    "import matplotlib.pyplot as plt\n",
    "from sklearn.ensemble import VotingClassifier\n",
    "from tensorflow.keras.models import Sequential\n",
    "from tensorflow.keras.layers import Dense\n",
    "from tensorflow.keras.optimizers import Adam\n",
    "from sklearn.metrics import accuracy_score, confusion_matrix\n",
    "from sklearn.svm import SVC\n",
    "import seaborn as sns\n",
    "from sklearn.neural_network import MLPClassifier"
   ]
  },
  {
   "cell_type": "code",
   "execution_count": 2,
   "metadata": {},
   "outputs": [],
   "source": [
    "def plot_confusion_matrix(y_true, y_pred, labels):\n",
    "    \"this function plots the confusion matrix\"\n",
    "    cm = confusion_matrix(y_true, y_pred, labels=labels)\n",
    "    ax = plt.subplot()\n",
    "    sns.heatmap(cm, annot=True, ax=ax, fmt='g')  # annot=True to annotate cells\n",
    "    ax.set_xlabel('Predicted labels')\n",
    "    ax.set_ylabel('True labels')\n",
    "    ax.set_title('Confusion Matrix')\n",
    "    ax.xaxis.set_ticklabels(labels)\n",
    "    ax.yaxis.set_ticklabels(labels)\n",
    "    plt.show()"
   ]
  },
  {
   "cell_type": "code",
   "execution_count": 3,
   "metadata": {},
   "outputs": [],
   "source": [
    "## reading data \n",
    "data = pd.read_excel(\"data/new_data.xlsx\")\n",
    "data.drop(columns=[\"Unnamed: 0\"], inplace=True) ## to remove unnecessary ID column\n",
    "\n",
    "generated_data = pd.read_excel(\"data\\generated_data.xlsx\")\n",
    "generated_data.drop(columns=[\"Unnamed: 0\"], inplace=True) "
   ]
  },
  {
   "cell_type": "code",
   "execution_count": 4,
   "metadata": {},
   "outputs": [
    {
     "name": "stdout",
     "output_type": "stream",
     "text": [
      "original data shape:  (111, 9)\n"
     ]
    },
    {
     "data": {
      "text/html": [
       "<div>\n",
       "<style scoped>\n",
       "    .dataframe tbody tr th:only-of-type {\n",
       "        vertical-align: middle;\n",
       "    }\n",
       "\n",
       "    .dataframe tbody tr th {\n",
       "        vertical-align: top;\n",
       "    }\n",
       "\n",
       "    .dataframe thead th {\n",
       "        text-align: right;\n",
       "    }\n",
       "</style>\n",
       "<table border=\"1\" class=\"dataframe\">\n",
       "  <thead>\n",
       "    <tr style=\"text-align: right;\">\n",
       "      <th></th>\n",
       "      <th>d_p</th>\n",
       "      <th>d_hole</th>\n",
       "      <th>l_e</th>\n",
       "      <th>f_cg</th>\n",
       "      <th>f_cm</th>\n",
       "      <th>anchore_type</th>\n",
       "      <th>masonry_type</th>\n",
       "      <th>f_max_exp</th>\n",
       "      <th>failure_mode</th>\n",
       "    </tr>\n",
       "  </thead>\n",
       "  <tbody>\n",
       "    <tr>\n",
       "      <th>0</th>\n",
       "      <td>16</td>\n",
       "      <td>80</td>\n",
       "      <td>350</td>\n",
       "      <td>27.3</td>\n",
       "      <td>50.0</td>\n",
       "      <td>4</td>\n",
       "      <td>0</td>\n",
       "      <td>58.0</td>\n",
       "      <td>1</td>\n",
       "    </tr>\n",
       "    <tr>\n",
       "      <th>1</th>\n",
       "      <td>16</td>\n",
       "      <td>80</td>\n",
       "      <td>350</td>\n",
       "      <td>27.3</td>\n",
       "      <td>50.0</td>\n",
       "      <td>4</td>\n",
       "      <td>0</td>\n",
       "      <td>40.0</td>\n",
       "      <td>1</td>\n",
       "    </tr>\n",
       "    <tr>\n",
       "      <th>2</th>\n",
       "      <td>16</td>\n",
       "      <td>80</td>\n",
       "      <td>350</td>\n",
       "      <td>27.3</td>\n",
       "      <td>50.0</td>\n",
       "      <td>4</td>\n",
       "      <td>0</td>\n",
       "      <td>52.0</td>\n",
       "      <td>1</td>\n",
       "    </tr>\n",
       "    <tr>\n",
       "      <th>3</th>\n",
       "      <td>16</td>\n",
       "      <td>80</td>\n",
       "      <td>350</td>\n",
       "      <td>27.3</td>\n",
       "      <td>50.0</td>\n",
       "      <td>4</td>\n",
       "      <td>0</td>\n",
       "      <td>60.0</td>\n",
       "      <td>2</td>\n",
       "    </tr>\n",
       "    <tr>\n",
       "      <th>4</th>\n",
       "      <td>16</td>\n",
       "      <td>80</td>\n",
       "      <td>350</td>\n",
       "      <td>27.3</td>\n",
       "      <td>50.0</td>\n",
       "      <td>4</td>\n",
       "      <td>0</td>\n",
       "      <td>64.0</td>\n",
       "      <td>2</td>\n",
       "    </tr>\n",
       "  </tbody>\n",
       "</table>\n",
       "</div>"
      ],
      "text/plain": [
       "   d_p  d_hole  l_e  f_cg  f_cm  anchore_type  masonry_type  f_max_exp  \\\n",
       "0   16      80  350  27.3  50.0             4             0       58.0   \n",
       "1   16      80  350  27.3  50.0             4             0       40.0   \n",
       "2   16      80  350  27.3  50.0             4             0       52.0   \n",
       "3   16      80  350  27.3  50.0             4             0       60.0   \n",
       "4   16      80  350  27.3  50.0             4             0       64.0   \n",
       "\n",
       "   failure_mode  \n",
       "0             1  \n",
       "1             1  \n",
       "2             1  \n",
       "3             2  \n",
       "4             2  "
      ]
     },
     "execution_count": 4,
     "metadata": {},
     "output_type": "execute_result"
    }
   ],
   "source": [
    "print(\"original data shape: \", data.shape)\n",
    "data.head()"
   ]
  },
  {
   "cell_type": "code",
   "execution_count": 5,
   "metadata": {},
   "outputs": [
    {
     "data": {
      "text/html": [
       "<div>\n",
       "<style scoped>\n",
       "    .dataframe tbody tr th:only-of-type {\n",
       "        vertical-align: middle;\n",
       "    }\n",
       "\n",
       "    .dataframe tbody tr th {\n",
       "        vertical-align: top;\n",
       "    }\n",
       "\n",
       "    .dataframe thead th {\n",
       "        text-align: right;\n",
       "    }\n",
       "</style>\n",
       "<table border=\"1\" class=\"dataframe\">\n",
       "  <thead>\n",
       "    <tr style=\"text-align: right;\">\n",
       "      <th></th>\n",
       "      <th>d_p</th>\n",
       "      <th>d_hole</th>\n",
       "      <th>l_e</th>\n",
       "      <th>f_cg</th>\n",
       "      <th>f_cm</th>\n",
       "      <th>anchore_type</th>\n",
       "      <th>masonry_type</th>\n",
       "      <th>f_max_exp</th>\n",
       "      <th>failure_mode</th>\n",
       "    </tr>\n",
       "  </thead>\n",
       "  <tbody>\n",
       "    <tr>\n",
       "      <th>0</th>\n",
       "      <td>0.411372</td>\n",
       "      <td>2.854512</td>\n",
       "      <td>1.690391</td>\n",
       "      <td>-0.892421</td>\n",
       "      <td>2.714898</td>\n",
       "      <td>0.321232</td>\n",
       "      <td>-0.778486</td>\n",
       "      <td>0.914930</td>\n",
       "      <td>1.0</td>\n",
       "    </tr>\n",
       "    <tr>\n",
       "      <th>1</th>\n",
       "      <td>0.411372</td>\n",
       "      <td>2.854512</td>\n",
       "      <td>1.690391</td>\n",
       "      <td>-0.892421</td>\n",
       "      <td>2.714898</td>\n",
       "      <td>0.321232</td>\n",
       "      <td>-0.778486</td>\n",
       "      <td>0.044730</td>\n",
       "      <td>1.0</td>\n",
       "    </tr>\n",
       "    <tr>\n",
       "      <th>2</th>\n",
       "      <td>0.411372</td>\n",
       "      <td>2.854512</td>\n",
       "      <td>1.690391</td>\n",
       "      <td>-0.892421</td>\n",
       "      <td>2.714898</td>\n",
       "      <td>0.321232</td>\n",
       "      <td>-0.778486</td>\n",
       "      <td>0.624863</td>\n",
       "      <td>1.0</td>\n",
       "    </tr>\n",
       "    <tr>\n",
       "      <th>3</th>\n",
       "      <td>0.411372</td>\n",
       "      <td>2.854512</td>\n",
       "      <td>1.690391</td>\n",
       "      <td>-0.892421</td>\n",
       "      <td>2.714898</td>\n",
       "      <td>0.321232</td>\n",
       "      <td>-0.778486</td>\n",
       "      <td>1.011619</td>\n",
       "      <td>2.0</td>\n",
       "    </tr>\n",
       "    <tr>\n",
       "      <th>4</th>\n",
       "      <td>0.411372</td>\n",
       "      <td>2.854512</td>\n",
       "      <td>1.690391</td>\n",
       "      <td>-0.892421</td>\n",
       "      <td>2.714898</td>\n",
       "      <td>0.321232</td>\n",
       "      <td>-0.778486</td>\n",
       "      <td>1.204997</td>\n",
       "      <td>2.0</td>\n",
       "    </tr>\n",
       "  </tbody>\n",
       "</table>\n",
       "</div>"
      ],
      "text/plain": [
       "        d_p    d_hole       l_e      f_cg      f_cm  anchore_type  \\\n",
       "0  0.411372  2.854512  1.690391 -0.892421  2.714898      0.321232   \n",
       "1  0.411372  2.854512  1.690391 -0.892421  2.714898      0.321232   \n",
       "2  0.411372  2.854512  1.690391 -0.892421  2.714898      0.321232   \n",
       "3  0.411372  2.854512  1.690391 -0.892421  2.714898      0.321232   \n",
       "4  0.411372  2.854512  1.690391 -0.892421  2.714898      0.321232   \n",
       "\n",
       "   masonry_type  f_max_exp  failure_mode  \n",
       "0     -0.778486   0.914930           1.0  \n",
       "1     -0.778486   0.044730           1.0  \n",
       "2     -0.778486   0.624863           1.0  \n",
       "3     -0.778486   1.011619           2.0  \n",
       "4     -0.778486   1.204997           2.0  "
      ]
     },
     "execution_count": 5,
     "metadata": {},
     "output_type": "execute_result"
    }
   ],
   "source": [
    "## Normalizing generated data\n",
    "\n",
    "data_x = data.iloc[:,0:-1]\n",
    "data_y = data.iloc[:,-1]\n",
    "scaler = StandardScaler()\n",
    "data_x_nor = scaler.fit_transform(data_x)\n",
    "data_final = np.column_stack((data_x_nor,data_y))\n",
    "\n",
    "data_final_df = pd.DataFrame(data=data_final,columns=list(data.columns))\n",
    "data_final_df.head()"
   ]
  },
  {
   "cell_type": "code",
   "execution_count": 6,
   "metadata": {},
   "outputs": [
    {
     "name": "stdout",
     "output_type": "stream",
     "text": [
      "genretaed data shape:  (1000, 9)\n"
     ]
    },
    {
     "data": {
      "text/html": [
       "<div>\n",
       "<style scoped>\n",
       "    .dataframe tbody tr th:only-of-type {\n",
       "        vertical-align: middle;\n",
       "    }\n",
       "\n",
       "    .dataframe tbody tr th {\n",
       "        vertical-align: top;\n",
       "    }\n",
       "\n",
       "    .dataframe thead th {\n",
       "        text-align: right;\n",
       "    }\n",
       "</style>\n",
       "<table border=\"1\" class=\"dataframe\">\n",
       "  <thead>\n",
       "    <tr style=\"text-align: right;\">\n",
       "      <th></th>\n",
       "      <th>d_p</th>\n",
       "      <th>d_hole</th>\n",
       "      <th>l_e</th>\n",
       "      <th>f_cg</th>\n",
       "      <th>f_cm</th>\n",
       "      <th>anchore_type</th>\n",
       "      <th>masonry_type</th>\n",
       "      <th>f_max_exp</th>\n",
       "      <th>failure_mode</th>\n",
       "    </tr>\n",
       "  </thead>\n",
       "  <tbody>\n",
       "    <tr>\n",
       "      <th>0</th>\n",
       "      <td>0.646669</td>\n",
       "      <td>-0.315394</td>\n",
       "      <td>-0.542088</td>\n",
       "      <td>0.808456</td>\n",
       "      <td>0.661576</td>\n",
       "      <td>1.657302</td>\n",
       "      <td>1.333161</td>\n",
       "      <td>0.735962</td>\n",
       "      <td>0</td>\n",
       "    </tr>\n",
       "    <tr>\n",
       "      <th>1</th>\n",
       "      <td>1.019070</td>\n",
       "      <td>0.035179</td>\n",
       "      <td>-0.369328</td>\n",
       "      <td>0.488657</td>\n",
       "      <td>-0.118352</td>\n",
       "      <td>2.574922</td>\n",
       "      <td>1.098196</td>\n",
       "      <td>1.950988</td>\n",
       "      <td>1</td>\n",
       "    </tr>\n",
       "    <tr>\n",
       "      <th>2</th>\n",
       "      <td>1.417348</td>\n",
       "      <td>-0.787739</td>\n",
       "      <td>0.344419</td>\n",
       "      <td>1.069244</td>\n",
       "      <td>0.166702</td>\n",
       "      <td>3.432566</td>\n",
       "      <td>1.420440</td>\n",
       "      <td>2.450958</td>\n",
       "      <td>1</td>\n",
       "    </tr>\n",
       "    <tr>\n",
       "      <th>3</th>\n",
       "      <td>0.246047</td>\n",
       "      <td>-0.007379</td>\n",
       "      <td>-0.149558</td>\n",
       "      <td>0.151169</td>\n",
       "      <td>0.148199</td>\n",
       "      <td>0.780398</td>\n",
       "      <td>0.295189</td>\n",
       "      <td>0.634450</td>\n",
       "      <td>0</td>\n",
       "    </tr>\n",
       "    <tr>\n",
       "      <th>4</th>\n",
       "      <td>0.871234</td>\n",
       "      <td>-0.401319</td>\n",
       "      <td>-0.708741</td>\n",
       "      <td>0.844380</td>\n",
       "      <td>0.391476</td>\n",
       "      <td>2.334630</td>\n",
       "      <td>1.346043</td>\n",
       "      <td>1.589443</td>\n",
       "      <td>1</td>\n",
       "    </tr>\n",
       "  </tbody>\n",
       "</table>\n",
       "</div>"
      ],
      "text/plain": [
       "        d_p    d_hole       l_e      f_cg      f_cm  anchore_type  \\\n",
       "0  0.646669 -0.315394 -0.542088  0.808456  0.661576      1.657302   \n",
       "1  1.019070  0.035179 -0.369328  0.488657 -0.118352      2.574922   \n",
       "2  1.417348 -0.787739  0.344419  1.069244  0.166702      3.432566   \n",
       "3  0.246047 -0.007379 -0.149558  0.151169  0.148199      0.780398   \n",
       "4  0.871234 -0.401319 -0.708741  0.844380  0.391476      2.334630   \n",
       "\n",
       "   masonry_type  f_max_exp  failure_mode  \n",
       "0      1.333161   0.735962             0  \n",
       "1      1.098196   1.950988             1  \n",
       "2      1.420440   2.450958             1  \n",
       "3      0.295189   0.634450             0  \n",
       "4      1.346043   1.589443             1  "
      ]
     },
     "execution_count": 6,
     "metadata": {},
     "output_type": "execute_result"
    }
   ],
   "source": [
    "print(\"genretaed data shape: \", generated_data.shape)\n",
    "generated_data.head()"
   ]
  },
  {
   "cell_type": "code",
   "execution_count": 7,
   "metadata": {},
   "outputs": [
    {
     "name": "stdout",
     "output_type": "stream",
     "text": [
      "Final data shape:  (1111, 9)\n"
     ]
    },
    {
     "data": {
      "text/html": [
       "<div>\n",
       "<style scoped>\n",
       "    .dataframe tbody tr th:only-of-type {\n",
       "        vertical-align: middle;\n",
       "    }\n",
       "\n",
       "    .dataframe tbody tr th {\n",
       "        vertical-align: top;\n",
       "    }\n",
       "\n",
       "    .dataframe thead th {\n",
       "        text-align: right;\n",
       "    }\n",
       "</style>\n",
       "<table border=\"1\" class=\"dataframe\">\n",
       "  <thead>\n",
       "    <tr style=\"text-align: right;\">\n",
       "      <th></th>\n",
       "      <th>d_p</th>\n",
       "      <th>d_hole</th>\n",
       "      <th>l_e</th>\n",
       "      <th>f_cg</th>\n",
       "      <th>f_cm</th>\n",
       "      <th>anchore_type</th>\n",
       "      <th>masonry_type</th>\n",
       "      <th>f_max_exp</th>\n",
       "      <th>failure_mode</th>\n",
       "    </tr>\n",
       "  </thead>\n",
       "  <tbody>\n",
       "    <tr>\n",
       "      <th>0</th>\n",
       "      <td>16.0</td>\n",
       "      <td>80.0</td>\n",
       "      <td>350.0</td>\n",
       "      <td>27.3</td>\n",
       "      <td>50.0</td>\n",
       "      <td>4.0</td>\n",
       "      <td>0.0</td>\n",
       "      <td>58.0</td>\n",
       "      <td>1</td>\n",
       "    </tr>\n",
       "    <tr>\n",
       "      <th>1</th>\n",
       "      <td>16.0</td>\n",
       "      <td>80.0</td>\n",
       "      <td>350.0</td>\n",
       "      <td>27.3</td>\n",
       "      <td>50.0</td>\n",
       "      <td>4.0</td>\n",
       "      <td>0.0</td>\n",
       "      <td>40.0</td>\n",
       "      <td>1</td>\n",
       "    </tr>\n",
       "    <tr>\n",
       "      <th>2</th>\n",
       "      <td>16.0</td>\n",
       "      <td>80.0</td>\n",
       "      <td>350.0</td>\n",
       "      <td>27.3</td>\n",
       "      <td>50.0</td>\n",
       "      <td>4.0</td>\n",
       "      <td>0.0</td>\n",
       "      <td>52.0</td>\n",
       "      <td>1</td>\n",
       "    </tr>\n",
       "    <tr>\n",
       "      <th>3</th>\n",
       "      <td>16.0</td>\n",
       "      <td>80.0</td>\n",
       "      <td>350.0</td>\n",
       "      <td>27.3</td>\n",
       "      <td>50.0</td>\n",
       "      <td>4.0</td>\n",
       "      <td>0.0</td>\n",
       "      <td>60.0</td>\n",
       "      <td>2</td>\n",
       "    </tr>\n",
       "    <tr>\n",
       "      <th>4</th>\n",
       "      <td>16.0</td>\n",
       "      <td>80.0</td>\n",
       "      <td>350.0</td>\n",
       "      <td>27.3</td>\n",
       "      <td>50.0</td>\n",
       "      <td>4.0</td>\n",
       "      <td>0.0</td>\n",
       "      <td>64.0</td>\n",
       "      <td>2</td>\n",
       "    </tr>\n",
       "  </tbody>\n",
       "</table>\n",
       "</div>"
      ],
      "text/plain": [
       "    d_p  d_hole    l_e  f_cg  f_cm  anchore_type  masonry_type  f_max_exp  \\\n",
       "0  16.0    80.0  350.0  27.3  50.0           4.0           0.0       58.0   \n",
       "1  16.0    80.0  350.0  27.3  50.0           4.0           0.0       40.0   \n",
       "2  16.0    80.0  350.0  27.3  50.0           4.0           0.0       52.0   \n",
       "3  16.0    80.0  350.0  27.3  50.0           4.0           0.0       60.0   \n",
       "4  16.0    80.0  350.0  27.3  50.0           4.0           0.0       64.0   \n",
       "\n",
       "   failure_mode  \n",
       "0             1  \n",
       "1             1  \n",
       "2             1  \n",
       "3             2  \n",
       "4             2  "
      ]
     },
     "execution_count": 7,
     "metadata": {},
     "output_type": "execute_result"
    }
   ],
   "source": [
    "data_concate = pd.concat([data,generated_data],axis=0)\n",
    "print(\"Final data shape: \", data_concate.shape)\n",
    "data_concate.head()"
   ]
  },
  {
   "cell_type": "code",
   "execution_count": 8,
   "metadata": {},
   "outputs": [
    {
     "data": {
      "image/png": "[encoded data removed]",
      "text/plain": [
       "<Figure size 640x480 with 1 Axes>"
      ]
     },
     "metadata": {},
     "output_type": "display_data"
    }
   ],
   "source": [
    "## Checking the frequency for each class (Failure Mode)\n",
    "sns.histplot(data=data_concate, x=\"failure_mode\", color='royalblue', alpha=0.7)\n",
    "plt.title(\"Failure mode Distribution\")\n",
    "plt.xlabel(\"Failure mode\")\n",
    "plt.xticks([0,1,2,3])\n",
    "plt.ylabel(\"Frequency\")\n",
    "plt.show()"
   ]
  },
  {
   "cell_type": "code",
   "execution_count": 9,
   "metadata": {},
   "outputs": [
    {
     "name": "stdout",
     "output_type": "stream",
     "text": [
      "X_train shape: (888, 8)\n",
      "X_test shape: (223, 8)\n",
      "y_train shape: (888,)\n",
      "y_test shape: (223,)\n"
     ]
    }
   ],
   "source": [
    "X = data_concate.iloc[:,0:-1]\n",
    "Y = data_concate.iloc[:,-1].to_numpy()\n",
    "\n",
    "x_train, x_test, y_train, y_test = train_test_split(X,Y,test_size=0.2 ,random_state=42)\n",
    "\n",
    "print(\"X_train shape:\", x_train.shape)  \n",
    "print(\"X_test shape:\", x_test.shape)\n",
    "print(\"y_train shape:\", y_train.shape)\n",
    "print(\"y_test shape:\", y_test.shape)"
   ]
  },
  {
   "cell_type": "markdown",
   "metadata": {},
   "source": [
    "### ANN model"
   ]
  },
  {
   "cell_type": "code",
   "execution_count": 10,
   "metadata": {},
   "outputs": [
    {
     "name": "stdout",
     "output_type": "stream",
     "text": [
      "Epoch 1/15\n",
      "28/28 [==============================] - 4s 20ms/step - loss: 1.6278 - accuracy: 0.5608 - val_loss: 1.2671 - val_accuracy: 0.6457\n",
      "Epoch 2/15\n",
      "28/28 [==============================] - 0s 4ms/step - loss: 1.1811 - accuracy: 0.6768 - val_loss: 1.1444 - val_accuracy: 0.6816\n",
      "Epoch 3/15\n",
      "28/28 [==============================] - 0s 4ms/step - loss: 0.9390 - accuracy: 0.7095 - val_loss: 0.9962 - val_accuracy: 0.7220\n",
      "Epoch 4/15\n",
      "28/28 [==============================] - 0s 4ms/step - loss: 0.8377 - accuracy: 0.7455 - val_loss: 1.0123 - val_accuracy: 0.6861\n",
      "Epoch 5/15\n",
      "28/28 [==============================] - 0s 3ms/step - loss: 0.7614 - accuracy: 0.7759 - val_loss: 0.8325 - val_accuracy: 0.7758\n",
      "Epoch 6/15\n",
      "28/28 [==============================] - 0s 3ms/step - loss: 0.6758 - accuracy: 0.7928 - val_loss: 0.8226 - val_accuracy: 0.7489\n",
      "Epoch 7/15\n",
      "28/28 [==============================] - 0s 3ms/step - loss: 0.6330 - accuracy: 0.8176 - val_loss: 0.9531 - val_accuracy: 0.7534\n",
      "Epoch 8/15\n",
      "28/28 [==============================] - 0s 3ms/step - loss: 0.6583 - accuracy: 0.8187 - val_loss: 1.0556 - val_accuracy: 0.7892\n",
      "Epoch 9/15\n",
      "28/28 [==============================] - 0s 3ms/step - loss: 0.6653 - accuracy: 0.8277 - val_loss: 0.7135 - val_accuracy: 0.7848\n",
      "Epoch 10/15\n",
      "28/28 [==============================] - 0s 3ms/step - loss: 0.8293 - accuracy: 0.8277 - val_loss: 0.6239 - val_accuracy: 0.7623\n",
      "Epoch 11/15\n",
      "28/28 [==============================] - 0s 3ms/step - loss: 0.5582 - accuracy: 0.8198 - val_loss: 0.6683 - val_accuracy: 0.8161\n",
      "Epoch 12/15\n",
      "28/28 [==============================] - 0s 3ms/step - loss: 0.4913 - accuracy: 0.8390 - val_loss: 0.6169 - val_accuracy: 0.7803\n",
      "Epoch 13/15\n",
      "28/28 [==============================] - 0s 3ms/step - loss: 0.5302 - accuracy: 0.8187 - val_loss: 0.7138 - val_accuracy: 0.7578\n",
      "Epoch 14/15\n",
      "28/28 [==============================] - 0s 3ms/step - loss: 0.5168 - accuracy: 0.8221 - val_loss: 0.6522 - val_accuracy: 0.8206\n",
      "Epoch 15/15\n",
      "28/28 [==============================] - 0s 3ms/step - loss: 0.4597 - accuracy: 0.8412 - val_loss: 0.6170 - val_accuracy: 0.7892\n"
     ]
    }
   ],
   "source": [
    "model = Sequential([\n",
    "    Dense(128, activation='relu', input_shape=(x_train.shape[1],)),  # Input layer with 128 neurons\n",
    "    Dense(64, activation='relu'),                                 # Hidden layer with 64 neurons\n",
    "    Dense(4, activation='softmax')                                 # Output layer (for binary classification)\n",
    "])\n",
    "\n",
    "# Compile the model\n",
    "adam = Adam(learning_rate=0.001) \n",
    "\n",
    "model.compile(optimizer=adam, loss='sparse_categorical_crossentropy', metrics=['accuracy'])\n",
    "\n",
    "history = model.fit(x_train, y_train,\n",
    "                    epochs=15, batch_size=32,\n",
    "                    validation_data=(x_test, y_test))"
   ]
  },
  {
   "cell_type": "code",
   "execution_count": 11,
   "metadata": {},
   "outputs": [
    {
     "data": {
      "image/png": "[encoded data removed]",
      "text/plain": [
       "<Figure size 640x480 with 1 Axes>"
      ]
     },
     "metadata": {},
     "output_type": "display_data"
    },
    {
     "data": {
      "image/png": "[encoded data removed]",
      "text/plain": [
       "<Figure size 640x480 with 1 Axes>"
      ]
     },
     "metadata": {},
     "output_type": "display_data"
    }
   ],
   "source": [
    "plt.plot(history.history['accuracy'])\n",
    "plt.plot(history.history['val_accuracy'])\n",
    "plt.title('Model Accuracy')\n",
    "plt.xlabel('Epoch')\n",
    "plt.ylabel('Accuracy')\n",
    "plt.legend(['Train', 'Test'], loc='upper left')\n",
    "plt.show()\n",
    "\n",
    "# Plot training and validation loss values\n",
    "plt.plot(history.history['loss'])\n",
    "plt.plot(history.history['val_loss'])\n",
    "plt.title('Model Loss')\n",
    "plt.xlabel('Epoch')\n",
    "plt.ylabel('Loss')\n",
    "plt.legend(['Train', 'Test'], loc='upper left')\n",
    "plt.show()"
   ]
  },
  {
   "cell_type": "code",
   "execution_count": 12,
   "metadata": {},
   "outputs": [
    {
     "name": "stdout",
     "output_type": "stream",
     "text": [
      "7/7 [==============================] - 0s 2ms/step\n"
     ]
    },
    {
     "data": {
      "image/png": "[encoded data removed]",
      "text/plain": [
       "<Figure size 640x480 with 2 Axes>"
      ]
     },
     "metadata": {},
     "output_type": "display_data"
    }
   ],
   "source": [
    "y_pred_nn = model.predict(x_test)\n",
    "y_pred_nn = np.argmax(y_pred_nn,axis=1)\n",
    "plot_confusion_matrix(y_test,y_pred_nn,[0,1,2,3])"
   ]
  },
  {
   "cell_type": "markdown",
   "metadata": {},
   "source": [
    "## SVM"
   ]
  },
  {
   "cell_type": "code",
   "execution_count": 13,
   "metadata": {},
   "outputs": [
    {
     "name": "stdout",
     "output_type": "stream",
     "text": [
      "Test Accuracy:  78.47533632286996\n",
      "Train Accuracy:  83.22072072072072\n"
     ]
    }
   ],
   "source": [
    "np.random.seed(42)\n",
    "\n",
    "clfc1 = (SVC(kernel='linear', C=1.0, probability=True,gamma=2.5, random_state=42))\n",
    "clfc1.fit(x_train, y_train)\n",
    "\n",
    "y_train_pred_svm1 = clfc1.predict(x_train)\n",
    "y_pred_svm1 = clfc1.predict(x_test)\n",
    "\n",
    "print(\"Test Accuracy: \",accuracy_score(y_test,y_pred_svm1)*100)\n",
    "print(\"Train Accuracy: \",accuracy_score(y_train,y_train_pred_svm1)*100)"
   ]
  },
  {
   "cell_type": "code",
   "execution_count": 14,
   "metadata": {},
   "outputs": [
    {
     "data": {
      "image/png": "[encoded data removed]",
      "text/plain": [
       "<Figure size 640x480 with 2 Axes>"
      ]
     },
     "metadata": {},
     "output_type": "display_data"
    }
   ],
   "source": [
    "plot_confusion_matrix(y_pred_svm1,y_test,[0,1,2,3])"
   ]
  },
  {
   "cell_type": "markdown",
   "metadata": {},
   "source": [
    "## Ensemble Models  (SVM + ANN)"
   ]
  },
  {
   "cell_type": "code",
   "execution_count": 15,
   "metadata": {},
   "outputs": [
    {
     "data": {
      "text/html": [
       "<style>#sk-container-id-1 {color: black;background-color: white;}#sk-container-id-1 pre{padding: 0;}#sk-container-id-1 div.sk-toggleable {background-color: white;}#sk-container-id-1 label.sk-toggleable__label {cursor: pointer;display: block;width: 100%;margin-bottom: 0;padding: 0.3em;box-sizing: border-box;text-align: center;}#sk-container-id-1 label.sk-toggleable__label-arrow:before {content: \"▸\";float: left;margin-right: 0.25em;color: #696969;}#sk-container-id-1 label.sk-toggleable__label-arrow:hover:before {color: black;}#sk-container-id-1 div.sk-estimator:hover label.sk-toggleable__label-arrow:before {color: black;}#sk-container-id-1 div.sk-toggleable__content {max-height: 0;max-width: 0;overflow: hidden;text-align: left;background-color: #f0f8ff;}#sk-container-id-1 div.sk-toggleable__content pre {margin: 0.2em;color: black;border-radius: 0.25em;background-color: #f0f8ff;}#sk-container-id-1 input.sk-toggleable__control:checked~div.sk-toggleable__content {max-height: 200px;max-width: 100%;overflow: auto;}#sk-container-id-1 input.sk-toggleable__control:checked~label.sk-toggleable__label-arrow:before {content: \"▾\";}#sk-container-id-1 div.sk-estimator input.sk-toggleable__control:checked~label.sk-toggleable__label {background-color: #d4ebff;}#sk-container-id-1 div.sk-label input.sk-toggleable__control:checked~label.sk-toggleable__label {background-color: #d4ebff;}#sk-container-id-1 input.sk-hidden--visually {border: 0;clip: rect(1px 1px 1px 1px);clip: rect(1px, 1px, 1px, 1px);height: 1px;margin: -1px;overflow: hidden;padding: 0;position: absolute;width: 1px;}#sk-container-id-1 div.sk-estimator {font-family: monospace;background-color: #f0f8ff;border: 1px dotted black;border-radius: 0.25em;box-sizing: border-box;margin-bottom: 0.5em;}#sk-container-id-1 div.sk-estimator:hover {background-color: #d4ebff;}#sk-container-id-1 div.sk-parallel-item::after {content: \"\";width: 100%;border-bottom: 1px solid gray;flex-grow: 1;}#sk-container-id-1 div.sk-label:hover label.sk-toggleable__label {background-color: #d4ebff;}#sk-container-id-1 div.sk-serial::before {content: \"\";position: absolute;border-left: 1px solid gray;box-sizing: border-box;top: 0;bottom: 0;left: 50%;z-index: 0;}#sk-container-id-1 div.sk-serial {display: flex;flex-direction: column;align-items: center;background-color: white;padding-right: 0.2em;padding-left: 0.2em;position: relative;}#sk-container-id-1 div.sk-item {position: relative;z-index: 1;}#sk-container-id-1 div.sk-parallel {display: flex;align-items: stretch;justify-content: center;background-color: white;position: relative;}#sk-container-id-1 div.sk-item::before, #sk-container-id-1 div.sk-parallel-item::before {content: \"\";position: absolute;border-left: 1px solid gray;box-sizing: border-box;top: 0;bottom: 0;left: 50%;z-index: -1;}#sk-container-id-1 div.sk-parallel-item {display: flex;flex-direction: column;z-index: 1;position: relative;background-color: white;}#sk-container-id-1 div.sk-parallel-item:first-child::after {align-self: flex-end;width: 50%;}#sk-container-id-1 div.sk-parallel-item:last-child::after {align-self: flex-start;width: 50%;}#sk-container-id-1 div.sk-parallel-item:only-child::after {width: 0;}#sk-container-id-1 div.sk-dashed-wrapped {border: 1px dashed gray;margin: 0 0.4em 0.5em 0.4em;box-sizing: border-box;padding-bottom: 0.4em;background-color: white;}#sk-container-id-1 div.sk-label label {font-family: monospace;font-weight: bold;display: inline-block;line-height: 1.2em;}#sk-container-id-1 div.sk-label-container {text-align: center;}#sk-container-id-1 div.sk-container {/* jupyter's `normalize.less` sets `[hidden] { display: none; }` but bootstrap.min.css set `[hidden] { display: none !important; }` so we also need the `!important` here to be able to override the default hidden behavior on the sphinx rendered scikit-learn.org. See: https://github.com/scikit-learn/scikit-learn/issues/21755 */display: inline-block !important;position: relative;}#sk-container-id-1 div.sk-text-repr-fallback {display: none;}</style><div id=\"sk-container-id-1\" class=\"sk-top-container\"><div class=\"sk-text-repr-fallback\"><pre>VotingClassifier(estimators=[(&#x27;ann&#x27;,\n",
       "                              MLPClassifier(alpha=1e-05,\n",
       "                                            hidden_layer_sizes=(64, 4),\n",
       "                                            random_state=1, solver=&#x27;lbfgs&#x27;)),\n",
       "                             (&#x27;svm&#x27;, SVC(gamma=&#x27;auto&#x27;, probability=True))],\n",
       "                 voting=&#x27;soft&#x27;)</pre><b>In a Jupyter environment, please rerun this cell to show the HTML representation or trust the notebook. <br />On GitHub, the HTML representation is unable to render, please try loading this page with nbviewer.org.</b></div><div class=\"sk-container\" hidden><div class=\"sk-item sk-dashed-wrapped\"><div class=\"sk-label-container\"><div class=\"sk-label sk-toggleable\"><input class=\"sk-toggleable__control sk-hidden--visually\" id=\"sk-estimator-id-1\" type=\"checkbox\" ><label for=\"sk-estimator-id-1\" class=\"sk-toggleable__label sk-toggleable__label-arrow\">VotingClassifier</label><div class=\"sk-toggleable__content\"><pre>VotingClassifier(estimators=[(&#x27;ann&#x27;,\n",
       "                              MLPClassifier(alpha=1e-05,\n",
       "                                            hidden_layer_sizes=(64, 4),\n",
       "                                            random_state=1, solver=&#x27;lbfgs&#x27;)),\n",
       "                             (&#x27;svm&#x27;, SVC(gamma=&#x27;auto&#x27;, probability=True))],\n",
       "                 voting=&#x27;soft&#x27;)</pre></div></div></div><div class=\"sk-parallel\"><div class=\"sk-parallel-item\"><div class=\"sk-item\"><div class=\"sk-label-container\"><div class=\"sk-label sk-toggleable\"><label>ann</label></div></div><div class=\"sk-serial\"><div class=\"sk-item\"><div class=\"sk-estimator sk-toggleable\"><input class=\"sk-toggleable__control sk-hidden--visually\" id=\"sk-estimator-id-2\" type=\"checkbox\" ><label for=\"sk-estimator-id-2\" class=\"sk-toggleable__label sk-toggleable__label-arrow\">MLPClassifier</label><div class=\"sk-toggleable__content\"><pre>MLPClassifier(alpha=1e-05, hidden_layer_sizes=(64, 4), random_state=1,\n",
       "              solver=&#x27;lbfgs&#x27;)</pre></div></div></div></div></div></div><div class=\"sk-parallel-item\"><div class=\"sk-item\"><div class=\"sk-label-container\"><div class=\"sk-label sk-toggleable\"><label>svm</label></div></div><div class=\"sk-serial\"><div class=\"sk-item\"><div class=\"sk-estimator sk-toggleable\"><input class=\"sk-toggleable__control sk-hidden--visually\" id=\"sk-estimator-id-3\" type=\"checkbox\" ><label for=\"sk-estimator-id-3\" class=\"sk-toggleable__label sk-toggleable__label-arrow\">SVC</label><div class=\"sk-toggleable__content\"><pre>SVC(gamma=&#x27;auto&#x27;, probability=True)</pre></div></div></div></div></div></div></div></div></div></div>"
      ],
      "text/plain": [
       "VotingClassifier(estimators=[('ann',\n",
       "                              MLPClassifier(alpha=1e-05,\n",
       "                                            hidden_layer_sizes=(64, 4),\n",
       "                                            random_state=1, solver='lbfgs')),\n",
       "                             ('svm', SVC(gamma='auto', probability=True))],\n",
       "                 voting='soft')"
      ]
     },
     "execution_count": 15,
     "metadata": {},
     "output_type": "execute_result"
    }
   ],
   "source": [
    "svm_model = SVC(kernel='rbf', C=1.0, gamma='auto',probability=True)\n",
    "lf = MLPClassifier(solver='lbfgs', alpha=1e-5, hidden_layer_sizes=(64, 4), random_state=1)\n",
    "ensemble_model = VotingClassifier([('ann', lf), ('svm', svm_model)], voting='soft')\n",
    "ensemble_model.fit(x_train, y_train)"
   ]
  },
  {
   "cell_type": "code",
   "execution_count": 16,
   "metadata": {},
   "outputs": [
    {
     "name": "stdout",
     "output_type": "stream",
     "text": [
      "Ensemble Model Accuracy: 0.8251121076233184\n"
     ]
    }
   ],
   "source": [
    "# Make predictions using the ensemble model\n",
    "y_pred_ensemble = ensemble_model.predict(x_test)\n",
    "\n",
    "# Calculate accuracy\n",
    "accuracy_ensemble = accuracy_score(y_test, y_pred_ensemble)\n",
    "print(\"Ensemble Model Accuracy:\", accuracy_ensemble)"
   ]
  }
 ],
 "metadata": {
  "kernelspec": {
   "display_name": "Python 3",
   "language": "python",
   "name": "python3"
  },
  "language_info": {
   "codemirror_mode": {
    "name": "ipython",
    "version": 3
   },
   "file_extension": ".py",
   "mimetype": "text/x-python",
   "name": "python",
   "nbconvert_exporter": "python",
   "pygments_lexer": "ipython3",
   "version": "3.11.2"
  }
 },
 "nbformat": 4,
 "nbformat_minor": 2
}
